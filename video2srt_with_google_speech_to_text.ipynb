{
  "nbformat": 4,
  "nbformat_minor": 0,
  "metadata": {
    "colab": {
      "name": "video2srt with google speech-to-text.ipynb",
      "provenance": [],
      "collapsed_sections": [],
      "authorship_tag": "ABX9TyNFp8bgBtiqh3ADWhsvcLdh"
    },
    "kernelspec": {
      "name": "python3",
      "display_name": "Python 3"
    },
    "language_info": {
      "name": "python"
    }
  },
  "cells": [
    {
      "cell_type": "code",
      "metadata": {
        "colab": {
          "base_uri": "https://localhost:8080/",
          "height": 837
        },
        "id": "V3VgJa8pYHMp",
        "outputId": "f0d3b377-24a3-4ded-a024-c8685e520188"
      },
      "source": [
        "%pip install --upgrade google-cloud-speech"
      ],
      "execution_count": 1,
      "outputs": [
        {
          "output_type": "stream",
          "name": "stdout",
          "text": [
            "Collecting google-cloud-speech\n",
            "  Downloading google_cloud_speech-2.10.0-py2.py3-none-any.whl (122 kB)\n",
            "\u001b[?25l\r\u001b[K     |██▊                             | 10 kB 27.1 MB/s eta 0:00:01\r\u001b[K     |█████▍                          | 20 kB 28.3 MB/s eta 0:00:01\r\u001b[K     |████████                        | 30 kB 12.2 MB/s eta 0:00:01\r\u001b[K     |██████████▊                     | 40 kB 9.2 MB/s eta 0:00:01\r\u001b[K     |█████████████▍                  | 51 kB 5.0 MB/s eta 0:00:01\r\u001b[K     |████████████████                | 61 kB 5.3 MB/s eta 0:00:01\r\u001b[K     |██████████████████▉             | 71 kB 5.8 MB/s eta 0:00:01\r\u001b[K     |█████████████████████▌          | 81 kB 6.5 MB/s eta 0:00:01\r\u001b[K     |████████████████████████▏       | 92 kB 4.6 MB/s eta 0:00:01\r\u001b[K     |██████████████████████████▉     | 102 kB 5.1 MB/s eta 0:00:01\r\u001b[K     |█████████████████████████████▌  | 112 kB 5.1 MB/s eta 0:00:01\r\u001b[K     |████████████████████████████████| 122 kB 5.1 MB/s \n",
            "\u001b[?25hRequirement already satisfied: google-api-core[grpc]<3.0.0dev,>=1.26.0 in /usr/local/lib/python3.7/dist-packages (from google-cloud-speech) (1.26.3)\n",
            "Requirement already satisfied: packaging>=14.3 in /usr/local/lib/python3.7/dist-packages (from google-cloud-speech) (21.0)\n",
            "Collecting proto-plus>=1.4.0\n",
            "  Downloading proto_plus-1.19.5-py3-none-any.whl (44 kB)\n",
            "\u001b[K     |████████████████████████████████| 44 kB 2.2 MB/s \n",
            "\u001b[?25hCollecting libcst>=0.2.5\n",
            "  Downloading libcst-0.3.21-py3-none-any.whl (514 kB)\n",
            "\u001b[K     |████████████████████████████████| 514 kB 57.3 MB/s \n",
            "\u001b[?25hRequirement already satisfied: requests<3.0.0dev,>=2.18.0 in /usr/local/lib/python3.7/dist-packages (from google-api-core[grpc]<3.0.0dev,>=1.26.0->google-cloud-speech) (2.23.0)\n",
            "Requirement already satisfied: google-auth<2.0dev,>=1.21.1 in /usr/local/lib/python3.7/dist-packages (from google-api-core[grpc]<3.0.0dev,>=1.26.0->google-cloud-speech) (1.35.0)\n",
            "Requirement already satisfied: googleapis-common-protos<2.0dev,>=1.6.0 in /usr/local/lib/python3.7/dist-packages (from google-api-core[grpc]<3.0.0dev,>=1.26.0->google-cloud-speech) (1.53.0)\n",
            "Requirement already satisfied: setuptools>=40.3.0 in /usr/local/lib/python3.7/dist-packages (from google-api-core[grpc]<3.0.0dev,>=1.26.0->google-cloud-speech) (57.4.0)\n",
            "Requirement already satisfied: pytz in /usr/local/lib/python3.7/dist-packages (from google-api-core[grpc]<3.0.0dev,>=1.26.0->google-cloud-speech) (2018.9)\n",
            "Requirement already satisfied: six>=1.13.0 in /usr/local/lib/python3.7/dist-packages (from google-api-core[grpc]<3.0.0dev,>=1.26.0->google-cloud-speech) (1.15.0)\n",
            "Requirement already satisfied: protobuf>=3.12.0 in /usr/local/lib/python3.7/dist-packages (from google-api-core[grpc]<3.0.0dev,>=1.26.0->google-cloud-speech) (3.17.3)\n",
            "Requirement already satisfied: grpcio<2.0dev,>=1.29.0 in /usr/local/lib/python3.7/dist-packages (from google-api-core[grpc]<3.0.0dev,>=1.26.0->google-cloud-speech) (1.41.0)\n",
            "Requirement already satisfied: pyasn1-modules>=0.2.1 in /usr/local/lib/python3.7/dist-packages (from google-auth<2.0dev,>=1.21.1->google-api-core[grpc]<3.0.0dev,>=1.26.0->google-cloud-speech) (0.2.8)\n",
            "Requirement already satisfied: cachetools<5.0,>=2.0.0 in /usr/local/lib/python3.7/dist-packages (from google-auth<2.0dev,>=1.21.1->google-api-core[grpc]<3.0.0dev,>=1.26.0->google-cloud-speech) (4.2.4)\n",
            "Requirement already satisfied: rsa<5,>=3.1.4 in /usr/local/lib/python3.7/dist-packages (from google-auth<2.0dev,>=1.21.1->google-api-core[grpc]<3.0.0dev,>=1.26.0->google-cloud-speech) (4.7.2)\n",
            "Collecting typing-inspect>=0.4.0\n",
            "  Downloading typing_inspect-0.7.1-py3-none-any.whl (8.4 kB)\n",
            "Collecting pyyaml>=5.2\n",
            "  Downloading PyYAML-6.0-cp37-cp37m-manylinux_2_5_x86_64.manylinux1_x86_64.manylinux_2_12_x86_64.manylinux2010_x86_64.whl (596 kB)\n",
            "\u001b[K     |████████████████████████████████| 596 kB 46.8 MB/s \n",
            "\u001b[?25hRequirement already satisfied: typing-extensions>=3.7.4.2 in /usr/local/lib/python3.7/dist-packages (from libcst>=0.2.5->google-cloud-speech) (3.7.4.3)\n",
            "Requirement already satisfied: pyparsing>=2.0.2 in /usr/local/lib/python3.7/dist-packages (from packaging>=14.3->google-cloud-speech) (2.4.7)\n",
            "Requirement already satisfied: pyasn1<0.5.0,>=0.4.6 in /usr/local/lib/python3.7/dist-packages (from pyasn1-modules>=0.2.1->google-auth<2.0dev,>=1.21.1->google-api-core[grpc]<3.0.0dev,>=1.26.0->google-cloud-speech) (0.4.8)\n",
            "Requirement already satisfied: certifi>=2017.4.17 in /usr/local/lib/python3.7/dist-packages (from requests<3.0.0dev,>=2.18.0->google-api-core[grpc]<3.0.0dev,>=1.26.0->google-cloud-speech) (2021.5.30)\n",
            "Requirement already satisfied: idna<3,>=2.5 in /usr/local/lib/python3.7/dist-packages (from requests<3.0.0dev,>=2.18.0->google-api-core[grpc]<3.0.0dev,>=1.26.0->google-cloud-speech) (2.10)\n",
            "Requirement already satisfied: chardet<4,>=3.0.2 in /usr/local/lib/python3.7/dist-packages (from requests<3.0.0dev,>=2.18.0->google-api-core[grpc]<3.0.0dev,>=1.26.0->google-cloud-speech) (3.0.4)\n",
            "Requirement already satisfied: urllib3!=1.25.0,!=1.25.1,<1.26,>=1.21.1 in /usr/local/lib/python3.7/dist-packages (from requests<3.0.0dev,>=2.18.0->google-api-core[grpc]<3.0.0dev,>=1.26.0->google-cloud-speech) (1.24.3)\n",
            "Collecting mypy-extensions>=0.3.0\n",
            "  Downloading mypy_extensions-0.4.3-py2.py3-none-any.whl (4.5 kB)\n",
            "Installing collected packages: mypy-extensions, typing-inspect, pyyaml, proto-plus, libcst, google-cloud-speech\n",
            "  Attempting uninstall: pyyaml\n",
            "    Found existing installation: PyYAML 3.13\n",
            "    Uninstalling PyYAML-3.13:\n",
            "      Successfully uninstalled PyYAML-3.13\n",
            "Successfully installed google-cloud-speech-2.10.0 libcst-0.3.21 mypy-extensions-0.4.3 proto-plus-1.19.5 pyyaml-6.0 typing-inspect-0.7.1\n"
          ]
        },
        {
          "output_type": "display_data",
          "data": {
            "application/vnd.colab-display-data+json": {
              "pip_warning": {
                "packages": [
                  "google"
                ]
              }
            }
          },
          "metadata": {}
        }
      ]
    },
    {
      "cell_type": "code",
      "metadata": {
        "colab": {
          "base_uri": "https://localhost:8080/",
          "height": 1000
        },
        "id": "lCGLXmws7LTm",
        "outputId": "8b866e69-3cc6-43bc-e7ba-3f9a54062ee2"
      },
      "source": [
        "%pip install --upgrade google-cloud-storage"
      ],
      "execution_count": 1,
      "outputs": [
        {
          "output_type": "stream",
          "name": "stdout",
          "text": [
            "Requirement already satisfied: google-cloud-storage in /usr/local/lib/python3.7/dist-packages (1.18.1)\n",
            "Collecting google-cloud-storage\n",
            "  Downloading google_cloud_storage-1.42.3-py2.py3-none-any.whl (105 kB)\n",
            "\u001b[K     |████████████████████████████████| 105 kB 5.1 MB/s \n",
            "\u001b[?25hRequirement already satisfied: six in /usr/local/lib/python3.7/dist-packages (from google-cloud-storage) (1.15.0)\n",
            "Collecting google-cloud-core<3.0dev,>=1.6.0\n",
            "  Downloading google_cloud_core-2.1.0-py2.py3-none-any.whl (27 kB)\n",
            "Collecting google-resumable-media<3.0dev,>=1.3.0\n",
            "  Downloading google_resumable_media-2.0.3-py2.py3-none-any.whl (75 kB)\n",
            "\u001b[K     |████████████████████████████████| 75 kB 4.0 MB/s \n",
            "\u001b[?25hRequirement already satisfied: requests<3.0.0dev,>=2.18.0 in /usr/local/lib/python3.7/dist-packages (from google-cloud-storage) (2.23.0)\n",
            "Collecting google-api-core<3.0dev,>=1.29.0\n",
            "  Downloading google_api_core-2.1.1-py2.py3-none-any.whl (95 kB)\n",
            "\u001b[K     |████████████████████████████████| 95 kB 3.5 MB/s \n",
            "\u001b[?25hRequirement already satisfied: protobuf in /usr/local/lib/python3.7/dist-packages (from google-cloud-storage) (3.17.3)\n",
            "Requirement already satisfied: google-auth<3.0dev,>=1.25.0 in /usr/local/lib/python3.7/dist-packages (from google-cloud-storage) (1.35.0)\n",
            "Requirement already satisfied: setuptools>=40.3.0 in /usr/local/lib/python3.7/dist-packages (from google-api-core<3.0dev,>=1.29.0->google-cloud-storage) (57.4.0)\n",
            "Requirement already satisfied: googleapis-common-protos<2.0dev,>=1.6.0 in /usr/local/lib/python3.7/dist-packages (from google-api-core<3.0dev,>=1.29.0->google-cloud-storage) (1.53.0)\n",
            "Requirement already satisfied: pyasn1-modules>=0.2.1 in /usr/local/lib/python3.7/dist-packages (from google-auth<3.0dev,>=1.25.0->google-cloud-storage) (0.2.8)\n",
            "Requirement already satisfied: rsa<5,>=3.1.4 in /usr/local/lib/python3.7/dist-packages (from google-auth<3.0dev,>=1.25.0->google-cloud-storage) (4.7.2)\n",
            "Requirement already satisfied: cachetools<5.0,>=2.0.0 in /usr/local/lib/python3.7/dist-packages (from google-auth<3.0dev,>=1.25.0->google-cloud-storage) (4.2.4)\n",
            "Collecting google-crc32c<2.0dev,>=1.0\n",
            "  Downloading google_crc32c-1.3.0-cp37-cp37m-manylinux_2_12_x86_64.manylinux2010_x86_64.whl (38 kB)\n",
            "Requirement already satisfied: pyasn1<0.5.0,>=0.4.6 in /usr/local/lib/python3.7/dist-packages (from pyasn1-modules>=0.2.1->google-auth<3.0dev,>=1.25.0->google-cloud-storage) (0.4.8)\n",
            "Requirement already satisfied: idna<3,>=2.5 in /usr/local/lib/python3.7/dist-packages (from requests<3.0.0dev,>=2.18.0->google-cloud-storage) (2.10)\n",
            "Requirement already satisfied: urllib3!=1.25.0,!=1.25.1,<1.26,>=1.21.1 in /usr/local/lib/python3.7/dist-packages (from requests<3.0.0dev,>=2.18.0->google-cloud-storage) (1.24.3)\n",
            "Requirement already satisfied: certifi>=2017.4.17 in /usr/local/lib/python3.7/dist-packages (from requests<3.0.0dev,>=2.18.0->google-cloud-storage) (2021.5.30)\n",
            "Requirement already satisfied: chardet<4,>=3.0.2 in /usr/local/lib/python3.7/dist-packages (from requests<3.0.0dev,>=2.18.0->google-cloud-storage) (3.0.4)\n",
            "Installing collected packages: google-crc32c, google-api-core, google-resumable-media, google-cloud-core, google-cloud-storage\n",
            "  Attempting uninstall: google-api-core\n",
            "    Found existing installation: google-api-core 1.26.3\n",
            "    Uninstalling google-api-core-1.26.3:\n",
            "      Successfully uninstalled google-api-core-1.26.3\n",
            "  Attempting uninstall: google-resumable-media\n",
            "    Found existing installation: google-resumable-media 0.4.1\n",
            "    Uninstalling google-resumable-media-0.4.1:\n",
            "      Successfully uninstalled google-resumable-media-0.4.1\n",
            "  Attempting uninstall: google-cloud-core\n",
            "    Found existing installation: google-cloud-core 1.0.3\n",
            "    Uninstalling google-cloud-core-1.0.3:\n",
            "      Successfully uninstalled google-cloud-core-1.0.3\n",
            "  Attempting uninstall: google-cloud-storage\n",
            "    Found existing installation: google-cloud-storage 1.18.1\n",
            "    Uninstalling google-cloud-storage-1.18.1:\n",
            "      Successfully uninstalled google-cloud-storage-1.18.1\n",
            "\u001b[31mERROR: pip's dependency resolver does not currently take into account all the packages that are installed. This behaviour is the source of the following dependency conflicts.\n",
            "google-cloud-translate 1.5.0 requires google-api-core[grpc]<2.0.0dev,>=1.6.0, but you have google-api-core 2.1.1 which is incompatible.\n",
            "google-cloud-translate 1.5.0 requires google-cloud-core<2.0dev,>=1.0.0, but you have google-cloud-core 2.1.0 which is incompatible.\n",
            "google-cloud-language 1.2.0 requires google-api-core[grpc]<2.0.0dev,>=1.6.0, but you have google-api-core 2.1.1 which is incompatible.\n",
            "google-cloud-firestore 1.7.0 requires google-api-core[grpc]<2.0.0dev,>=1.14.0, but you have google-api-core 2.1.1 which is incompatible.\n",
            "google-cloud-firestore 1.7.0 requires google-cloud-core<2.0dev,>=1.0.3, but you have google-cloud-core 2.1.0 which is incompatible.\n",
            "google-cloud-datastore 1.8.0 requires google-api-core[grpc]<2.0.0dev,>=1.6.0, but you have google-api-core 2.1.1 which is incompatible.\n",
            "google-cloud-datastore 1.8.0 requires google-cloud-core<2.0dev,>=1.0.0, but you have google-cloud-core 2.1.0 which is incompatible.\n",
            "google-cloud-bigquery 1.21.0 requires google-cloud-core<2.0dev,>=1.0.3, but you have google-cloud-core 2.1.0 which is incompatible.\n",
            "google-cloud-bigquery 1.21.0 requires google-resumable-media!=0.4.0,<0.5.0dev,>=0.3.1, but you have google-resumable-media 2.0.3 which is incompatible.\n",
            "google-cloud-bigquery-storage 1.1.0 requires google-api-core[grpc]<2.0.0dev,>=1.14.0, but you have google-api-core 2.1.1 which is incompatible.\n",
            "google-api-python-client 1.12.8 requires google-api-core<2dev,>=1.21.0, but you have google-api-core 2.1.1 which is incompatible.\n",
            "firebase-admin 4.4.0 requires google-api-core[grpc]<2.0.0dev,>=1.14.0; platform_python_implementation != \"PyPy\", but you have google-api-core 2.1.1 which is incompatible.\u001b[0m\n",
            "Successfully installed google-api-core-2.1.1 google-cloud-core-2.1.0 google-cloud-storage-1.42.3 google-crc32c-1.3.0 google-resumable-media-2.0.3\n"
          ]
        },
        {
          "output_type": "display_data",
          "data": {
            "application/vnd.colab-display-data+json": {
              "pip_warning": {
                "packages": [
                  "google"
                ]
              }
            }
          },
          "metadata": {}
        }
      ]
    },
    {
      "cell_type": "code",
      "metadata": {
        "colab": {
          "base_uri": "https://localhost:8080/"
        },
        "id": "-blBLUhTzjhv",
        "outputId": "4ef2b57b-6de2-40f1-d615-7a490a04318f"
      },
      "source": [
        "# this is because I put the API json key on my google drive\n",
        "# skip this if you use local env\n",
        "from google.colab import drive\n",
        "drive.mount('/content/gdrive')\n",
        "#ensure the file is accessible\n",
        "!ls /content/gdrive/'My Drive'/'Colab Notebooks'/temp\n"
      ],
      "execution_count": 10,
      "outputs": [
        {
          "output_type": "stream",
          "name": "stdout",
          "text": [
            "Mounted at /content/gdrive\n",
            "calibrate_647_generated242_data.ipynb  generated242.pkl\n",
            "evaluate_IDM.ipynb\t\t       temp_speech.json\n",
            "expert_traj_env_train.pkl\n"
          ]
        }
      ]
    },
    {
      "cell_type": "code",
      "metadata": {
        "colab": {
          "base_uri": "https://localhost:8080/"
        },
        "id": "jf90sUcCztfU",
        "outputId": "81a0ae62-7206-4e3b-dc14-d265d9a7a2e4"
      },
      "source": [
        "# this is because I put the API json key on my google drive\n",
        "# refer to google tutorial to check how to save the key\n",
        "import os\n",
        "os.environ[\"GOOGLE_APPLICATION_CREDENTIALS\"]=\"/content/gdrive/My Drive/Colab Notebooks/temp/temp_speech.json\"\n",
        "#ensure the path is set correctly\n",
        "!echo $GOOGLE_APPLICATION_CREDENTIALS"
      ],
      "execution_count": 12,
      "outputs": [
        {
          "output_type": "stream",
          "name": "stdout",
          "text": [
            "/content/gdrive/My Drive/Colab Notebooks/temp/temp_speech.json\n"
          ]
        }
      ]
    },
    {
      "cell_type": "code",
      "metadata": {
        "colab": {
          "base_uri": "https://localhost:8080/"
        },
        "id": "-mQ4b0mLYH1i",
        "outputId": "0b7cb80c-ce79-469c-e8a0-32756b7081a3"
      },
      "source": [
        "from google.colab import auth\n",
        "from google.cloud import storage\n",
        "auth.authenticate_user()\n",
        "project_id = 'prac-259701'\n",
        "!gcloud config set project {project_id}\n",
        "!gsutil ls\n",
        "bucket_name = 'sage_ff14'"
      ],
      "execution_count": 2,
      "outputs": [
        {
          "output_type": "stream",
          "name": "stdout",
          "text": [
            "Updated property [core/project].\n",
            "gs://sage_ff14/\n"
          ]
        }
      ]
    },
    {
      "cell_type": "code",
      "metadata": {
        "colab": {
          "base_uri": "https://localhost:8080/"
        },
        "id": "BNXg7AW4Zc28",
        "outputId": "d56514ca-c196-42d9-a3f2-ce441c98ad04"
      },
      "source": [
        "# test, check if connecting with the cloud storage\n",
        "from google.cloud import storage\n",
        "project_id = 'prac-259701'\n",
        "bucket_name = 'sage_ff14'\n",
        "def list_blobs(bucket_name):\n",
        "    \"\"\"Lists all the blobs in the bucket.\"\"\"\n",
        "# Note: Client.list_blobs requires at least package version 1.17.0.\n",
        "    storage_client = storage.Client(project_id)\n",
        "    blobs = storage_client.list_blobs(bucket_name)\n",
        "    for blob in blobs:\n",
        "      print(blob.name)\n",
        "list_blobs(bucket_name)"
      ],
      "execution_count": 3,
      "outputs": [
        {
          "output_type": "stream",
          "name": "stdout",
          "text": [
            "converted-sage.wav\n",
            "converted.wav\n"
          ]
        }
      ]
    },
    {
      "cell_type": "code",
      "metadata": {
        "colab": {
          "base_uri": "https://localhost:8080/"
        },
        "id": "abgtve-0afIL",
        "outputId": "ca97e381-6c35-4254-8416-67fba27dd362"
      },
      "source": [
        "!pip install srt"
      ],
      "execution_count": 4,
      "outputs": [
        {
          "output_type": "stream",
          "name": "stdout",
          "text": [
            "Collecting srt\n",
            "  Downloading srt-3.5.0.tar.gz (24 kB)\n",
            "Building wheels for collected packages: srt\n",
            "  Building wheel for srt (setup.py) ... \u001b[?25l\u001b[?25hdone\n",
            "  Created wheel for srt: filename=srt-3.5.0-py3-none-any.whl size=22182 sha256=a1d652a765ce6eb783095eddd964b24af852a77c828a64fcdea97b838d4d958a\n",
            "  Stored in directory: /root/.cache/pip/wheels/0f/38/79/e611a1233132e42439d7d703623fffd637d52ebabd0ec83658\n",
            "Successfully built srt\n",
            "Installing collected packages: srt\n",
            "Successfully installed srt-3.5.0\n"
          ]
        }
      ]
    },
    {
      "cell_type": "code",
      "metadata": {
        "id": "jINKfT6_ZqmR"
      },
      "source": [
        "import srt\n",
        "from google.cloud import speech"
      ],
      "execution_count": 5,
      "outputs": []
    },
    {
      "cell_type": "code",
      "metadata": {
        "id": "qvZ5D6lmd5vF"
      },
      "source": [
        "# parameters about the audio file\n",
        "sample_rate_hertz = 44100\n",
        "language_code = \"en-US\"\n",
        "audio_channel_count = 2\n",
        "encoding = 'LINEAR16'\n",
        "out_file = \"subtitle\"\n",
        "max_chars = 40"
      ],
      "execution_count": 6,
      "outputs": []
    },
    {
      "cell_type": "code",
      "metadata": {
        "id": "L2QHkJJfaOFt"
      },
      "source": [
        "def long_running_recognize(uri):\n",
        "    \"\"\"\n",
        "    Transcribe long audio file from Cloud Storage using asynchronous speech\n",
        "    recognition\n",
        "\n",
        "    Args:\n",
        "      storage_uri URI for audio file in GCS, e.g. gs://[BUCKET]/[FILE]\n",
        "    \"\"\"\n",
        "\n",
        "    # print(\"Transcribing {} ...\".format(args.storage_uri))\n",
        "    client = speech.SpeechClient()\n",
        "\n",
        "    # Encoding of audio data sent.\n",
        "    operation = client.long_running_recognize(\n",
        "        config=\n",
        "        {\n",
        "            \"enable_word_time_offsets\": True,\n",
        "            \"enable_automatic_punctuation\": True,\n",
        "            \"sample_rate_hertz\": sample_rate_hertz,\n",
        "            \"language_code\": language_code,\n",
        "            \"audio_channel_count\": audio_channel_count,\n",
        "            \"encoding\": encoding,\n",
        "        },\n",
        "        audio={\"uri\": storage_uri},\n",
        "    )\n",
        "    response = operation.result()\n",
        "\n",
        "    subs = []\n",
        "\n",
        "    for result in response.results:\n",
        "        # First alternative is the most probable result\n",
        "        # alternative = result.alternatives[0]\n",
        "        # subs.append(alternative)\n",
        "        # print(u\"Transcript: {}\".format(alternative.transcript))\n",
        "\n",
        "        subs = break_sentences( subs, result.alternatives[0])\n",
        "\n",
        "    print(\"Transcribing finished\")\n",
        "    return subs\n",
        "\n",
        "\n",
        "\n",
        "def break_sentences(subs, alternative):\n",
        "    firstword = True\n",
        "    charcount = 0\n",
        "    idx = len(subs) + 1\n",
        "    content = \"\"\n",
        "\n",
        "    for w in alternative.words:\n",
        "        if firstword:\n",
        "            # first word in sentence, record start time\n",
        "            # start = w.start_time.ToTimedelta()\n",
        "            start = w.start_time\n",
        "\n",
        "        charcount += len(w.word)\n",
        "        content += \" \" + w.word.strip()\n",
        "\n",
        "        if (\".\" in w.word or \"!\" in w.word or \"?\" in w.word or\n",
        "                charcount > max_chars or\n",
        "                (\",\" in w.word and not firstword)):\n",
        "            # break sentence at: . ! ? or line length exceeded\n",
        "            # also break if , and not first word\n",
        "            subs.append(srt.Subtitle(index=idx,\n",
        "                                     start=start,\n",
        "                                    #  end=w.end_time.ToTimedelta(),\n",
        "                                     end=w.end_time,\n",
        "                                     content=srt.make_legal_content(content)))\n",
        "            firstword = True\n",
        "            idx += 1\n",
        "            content = \"\"\n",
        "            charcount = 0\n",
        "        else:\n",
        "            firstword = False\n",
        "    return subs\n",
        "\n",
        "\n",
        "def write_srt(subs):\n",
        "    srt_file = out_file + \".srt\"\n",
        "    print(\"Writing {} subtitles to: {}\".format(language_code, srt_file))\n",
        "    f = open(srt_file, 'w')\n",
        "    f.writelines(srt.compose(subs))\n",
        "    f.close()\n",
        "    return\n",
        "\n",
        "\n",
        "def write_txt(subs):\n",
        "    txt_file = out_file + \".txt\"\n",
        "    print(\"Writing text to: {}\".format(txt_file))\n",
        "    f = open(txt_file, 'w')\n",
        "    for s in subs:\n",
        "        f.write(s.content.strip() + \"\\n\")\n",
        "    f.close()\n",
        "    return\n"
      ],
      "execution_count": 7,
      "outputs": []
    },
    {
      "cell_type": "code",
      "metadata": {
        "colab": {
          "base_uri": "https://localhost:8080/"
        },
        "id": "Jev9_o3_a6ZH",
        "outputId": "b7ca7cd8-6fc6-4b88-9a2e-6bb95737bcfb"
      },
      "source": [
        "storage_uri = 'gs://' + 'sage_ff14' + '/' +'converted-sage.wav'\n",
        "print(storage_uri)"
      ],
      "execution_count": 8,
      "outputs": [
        {
          "output_type": "stream",
          "name": "stdout",
          "text": [
            "gs://sage_ff14/converted-sage.wav\n"
          ]
        }
      ]
    },
    {
      "cell_type": "code",
      "metadata": {
        "colab": {
          "base_uri": "https://localhost:8080/"
        },
        "id": "WlEzkTgjccmC",
        "outputId": "79083e70-308c-441a-9133-9b49136f30db"
      },
      "source": [
        "subs = long_running_recognize(storage_uri)"
      ],
      "execution_count": 13,
      "outputs": [
        {
          "output_type": "stream",
          "name": "stdout",
          "text": [
            "Transcribing finished\n"
          ]
        }
      ]
    },
    {
      "cell_type": "code",
      "metadata": {
        "colab": {
          "base_uri": "https://localhost:8080/"
        },
        "id": "GPPhGma_tsJ0",
        "outputId": "457b151c-eef4-4043-c0f3-5b7169d5aac1"
      },
      "source": [
        "subs"
      ],
      "execution_count": 14,
      "outputs": [
        {
          "output_type": "execute_result",
          "data": {
            "text/plain": [
              "[Subtitle(index=1, start=datetime.timedelta(seconds=3, microseconds=200000), end=datetime.timedelta(seconds=3, microseconds=900000), content=' Hey, everyone.', proprietary=''),\n",
              " Subtitle(index=2, start=datetime.timedelta(seconds=3, microseconds=900000), end=datetime.timedelta(seconds=4, microseconds=400000), content=' Mr.', proprietary=''),\n",
              " Subtitle(index=3, start=datetime.timedelta(seconds=4, microseconds=400000), end=datetime.timedelta(seconds=4, microseconds=900000), content=' Happy here.', proprietary=''),\n",
              " Subtitle(index=4, start=datetime.timedelta(seconds=4, microseconds=900000), end=datetime.timedelta(seconds=7, microseconds=100000), content=' And in this video will be doing a full breakdown on', proprietary=''),\n",
              " Subtitle(index=5, start=datetime.timedelta(seconds=7, microseconds=100000), end=datetime.timedelta(seconds=7, microseconds=900000), content=' the stage job,', proprietary=''),\n",
              " Subtitle(index=6, start=datetime.timedelta(seconds=7, microseconds=900000), end=datetime.timedelta(seconds=9, microseconds=200000), content=' coming in and Walker.', proprietary=''),\n",
              " Subtitle(index=7, start=datetime.timedelta(seconds=9, microseconds=200000), end=datetime.timedelta(seconds=11, microseconds=900000), content=' This information is fresh out of the latest media', proprietary=''),\n",
              " Subtitle(index=8, start=datetime.timedelta(seconds=11, microseconds=900000), end=datetime.timedelta(seconds=12, microseconds=100000), content=' tour.', proprietary=''),\n",
              " Subtitle(index=9, start=datetime.timedelta(seconds=12, microseconds=100000), end=datetime.timedelta(seconds=13, microseconds=100000), content=' The Bear in mind,', proprietary=''),\n",
              " Subtitle(index=10, start=datetime.timedelta(seconds=13, microseconds=100000), end=datetime.timedelta(seconds=16), content=' everything in this video is still subject to change', proprietary=''),\n",
              " Subtitle(index=11, start=datetime.timedelta(seconds=16), end=datetime.timedelta(seconds=17, microseconds=500000), content=' before and Walkers release.', proprietary=''),\n",
              " Subtitle(index=12, start=datetime.timedelta(seconds=17, microseconds=500000), end=datetime.timedelta(seconds=21, microseconds=100000), content=\" Also, there's a playlist in the description and from\", proprietary=''),\n",
              " Subtitle(index=13, start=datetime.timedelta(seconds=21, microseconds=100000), end=datetime.timedelta(seconds=23, microseconds=400000), content=' clicking the eye in the top right corner to take you', proprietary=''),\n",
              " Subtitle(index=14, start=datetime.timedelta(seconds=23, microseconds=400000), end=datetime.timedelta(seconds=24, microseconds=400000), content=' to all of the other end,', proprietary=''),\n",
              " Subtitle(index=15, start=datetime.timedelta(seconds=24, microseconds=400000), end=datetime.timedelta(seconds=26, microseconds=700000), content=' walker job videos with that.', proprietary=''),\n",
              " Subtitle(index=16, start=datetime.timedelta(seconds=26, microseconds=700000), end=datetime.timedelta(seconds=27, microseconds=800000), content=\" Let's get started.\", proprietary=''),\n",
              " Subtitle(index=17, start=datetime.timedelta(seconds=27, microseconds=800000), end=datetime.timedelta(seconds=30, microseconds=600000), content=' A new healer being added.', proprietary=''),\n",
              " Subtitle(index=18, start=datetime.timedelta(seconds=30, microseconds=600000), end=datetime.timedelta(seconds=32, microseconds=600000), content=' When the end Walker expansion releases.', proprietary=''),\n",
              " Subtitle(index=19, start=datetime.timedelta(seconds=32, microseconds=600000), end=datetime.timedelta(seconds=34, microseconds=400000), content=' It is defined as a barrier,', proprietary=''),\n",
              " Subtitle(index=20, start=datetime.timedelta(seconds=34, microseconds=400000), end=datetime.timedelta(seconds=37, microseconds=300000), content=' healer possessing frequent access to damage preventing', proprietary=''),\n",
              " Subtitle(index=21, start=datetime.timedelta(seconds=37, microseconds=300000), end=datetime.timedelta(seconds=38, microseconds=600000), content=' shield to protect the party.', proprietary=''),\n",
              " Subtitle(index=22, start=datetime.timedelta(seconds=38, microseconds=600000), end=datetime.timedelta(seconds=41, microseconds=500000), content=' It is several job gauges and mechanics that all work', proprietary=''),\n",
              " Subtitle(index=23, start=datetime.timedelta(seconds=41, microseconds=500000), end=datetime.timedelta(seconds=43, microseconds=600000), content=' in tandem to provide a unique experience,', proprietary=''),\n",
              " Subtitle(index=24, start=datetime.timedelta(seconds=43, microseconds=600000), end=datetime.timedelta(seconds=45), content=' compared to the other healers.', proprietary=''),\n",
              " Subtitle(index=25, start=datetime.timedelta(seconds=45), end=datetime.timedelta(seconds=48, microseconds=200000), content=' First off is a few basic spells doses.', proprietary=''),\n",
              " Subtitle(index=26, start=datetime.timedelta(seconds=48, microseconds=200000), end=datetime.timedelta(seconds=49, microseconds=800000), content=' Is there a single Target DPS?', proprietary=''),\n",
              " Subtitle(index=27, start=datetime.timedelta(seconds=49, microseconds=800000), end=datetime.timedelta(seconds=53, microseconds=500000), content=' Spell diagnosis is a single Target heal and prognosis', proprietary=''),\n",
              " Subtitle(index=28, start=datetime.timedelta(seconds=53, microseconds=500000), end=datetime.timedelta(seconds=57, microseconds=400000), content=' is in a we heal these basic spells going to be altered', proprietary=''),\n",
              " Subtitle(index=29, start=datetime.timedelta(seconds=57, microseconds=400000), end=datetime.timedelta(seconds=59, microseconds=400000), content=' by using the eucrasia ability.', proprietary=''),\n",
              " Subtitle(index=30, start=datetime.timedelta(seconds=59, microseconds=400000), end=datetime.timedelta(seconds=61, microseconds=700000), content=' This changes their effects while also increasing', proprietary=''),\n",
              " Subtitle(index=31, start=datetime.timedelta(seconds=61, microseconds=700000), end=datetime.timedelta(seconds=63, microseconds=100000), content=' their and Pecos.', proprietary=''),\n",
              " Subtitle(index=32, start=datetime.timedelta(seconds=63, microseconds=500000), end=datetime.timedelta(seconds=65, microseconds=900000), content=' Dosist is changed into a damaged overtime,', proprietary=''),\n",
              " Subtitle(index=33, start=datetime.timedelta(seconds=65, microseconds=900000), end=datetime.timedelta(seconds=69, microseconds=400000), content=' affect all diagnosis and prognosis have Shield added', proprietary=''),\n",
              " Subtitle(index=34, start=datetime.timedelta(seconds=69, microseconds=400000), end=datetime.timedelta(seconds=71, microseconds=500000), content=' to their Spells at the cost of some of their healing', proprietary=''),\n",
              " Subtitle(index=35, start=datetime.timedelta(seconds=71, microseconds=500000), end=datetime.timedelta(seconds=72, microseconds=100000), content=' potency.', proprietary=''),\n",
              " Subtitle(index=36, start=datetime.timedelta(seconds=72, microseconds=100000), end=datetime.timedelta(seconds=75), content=\" You'll want to use you crazy specifically when you\", proprietary=''),\n",
              " Subtitle(index=37, start=datetime.timedelta(seconds=75), end=datetime.timedelta(seconds=76, microseconds=400000), content=' want to access these effects.', proprietary=''),\n",
              " Subtitle(index=38, start=datetime.timedelta(seconds=76, microseconds=400000), end=datetime.timedelta(seconds=78, microseconds=400000), content=' It simply encourage a one-second delay.', proprietary=''),\n",
              " Subtitle(index=39, start=datetime.timedelta(seconds=78, microseconds=400000), end=datetime.timedelta(seconds=79, microseconds=600000), content=' When you activate it,', proprietary=''),\n",
              " Subtitle(index=40, start=datetime.timedelta(seconds=79, microseconds=600000), end=datetime.timedelta(seconds=82, microseconds=600000), content=' effectively making any of these GC is a three and a', proprietary=''),\n",
              " Subtitle(index=41, start=datetime.timedelta(seconds=82, microseconds=600000), end=datetime.timedelta(seconds=85, microseconds=300000), content=' half second gcd just to perform the singular action.', proprietary=''),\n",
              " Subtitle(index=42, start=datetime.timedelta(seconds=85, microseconds=300000), end=datetime.timedelta(seconds=87, microseconds=800000), content=' You can also use the Pepsis skill to remove any,', proprietary=''),\n",
              " Subtitle(index=43, start=datetime.timedelta(seconds=87, microseconds=800000), end=datetime.timedelta(seconds=90, microseconds=300000), content=' you crazy shield from party members and instantly', proprietary=''),\n",
              " Subtitle(index=44, start=datetime.timedelta(seconds=90, microseconds=300000), end=datetime.timedelta(seconds=93, microseconds=100000), content=' heal them based on whether they have a prognosis or', proprietary=''),\n",
              " Subtitle(index=45, start=datetime.timedelta(seconds=93, microseconds=100000), end=datetime.timedelta(seconds=94, microseconds=400000), content=' diagnosis Shield,', proprietary=''),\n",
              " Subtitle(index=46, start=datetime.timedelta(seconds=94, microseconds=400000), end=datetime.timedelta(seconds=95), content=' you crazy,', proprietary=''),\n",
              " Subtitle(index=47, start=datetime.timedelta(seconds=95), end=datetime.timedelta(seconds=98, microseconds=100000), content=' a diagnosis in particular also has another effect.', proprietary=''),\n",
              " Subtitle(index=48, start=datetime.timedelta(seconds=98, microseconds=100000), end=datetime.timedelta(seconds=100), content=' If a player with a you crazy,', proprietary=''),\n",
              " Subtitle(index=49, start=datetime.timedelta(seconds=100), end=datetime.timedelta(seconds=102, microseconds=700000), content=' a diagnosis Shield has their Shields broken by damaged.', proprietary=''),\n",
              " Subtitle(index=50, start=datetime.timedelta(seconds=102, microseconds=700000), end=datetime.timedelta(seconds=105, microseconds=100000), content=' The sage will receive a stack of adders.', proprietary=''),\n",
              " Subtitle(index=51, start=datetime.timedelta(seconds=105, microseconds=100000), end=datetime.timedelta(seconds=106, microseconds=700000), content=' Sting the diamonds on the bottom.', proprietary=''),\n",
              " Subtitle(index=52, start=datetime.timedelta(seconds=106, microseconds=700000), end=datetime.timedelta(seconds=108, microseconds=200000), content=' Part of the job gauge for reference.', proprietary=''),\n",
              " Subtitle(index=53, start=datetime.timedelta(seconds=108, microseconds=200000), end=datetime.timedelta(seconds=111, microseconds=300000), content=' These can be consumed to access the toxic on spell.', proprietary=''),\n",
              " Subtitle(index=54, start=datetime.timedelta(seconds=111, microseconds=300000), end=datetime.timedelta(seconds=113, microseconds=900000), content=' Well, it has the same potency as dosist.', proprietary=''),\n",
              " Subtitle(index=55, start=datetime.timedelta(seconds=113, microseconds=900000), end=datetime.timedelta(seconds=117), content=' It has no MP cost helping with the added cost of using', proprietary=''),\n",
              " Subtitle(index=56, start=datetime.timedelta(seconds=117), end=datetime.timedelta(seconds=118, microseconds=400000), content=' you crazy a diagnosis.', proprietary=''),\n",
              " Subtitle(index=57, start=datetime.timedelta(seconds=118, microseconds=400000), end=datetime.timedelta(seconds=119, microseconds=900000), content=' It is also a week.', proprietary=''),\n",
              " Subtitle(index=58, start=datetime.timedelta(seconds=119, microseconds=900000), end=datetime.timedelta(seconds=123, microseconds=300000), content=\" So it's a fantastic dungeon tool is it does significantly\", proprietary=''),\n",
              " Subtitle(index=59, start=datetime.timedelta(seconds=123, microseconds=300000), end=datetime.timedelta(seconds=123, microseconds=400000), content=' mean?', proprietary=''),\n",
              " Subtitle(index=60, start=datetime.timedelta(seconds=123, microseconds=500000), end=datetime.timedelta(seconds=125), content=' Damage in their base aue,', proprietary=''),\n",
              " Subtitle(index=61, start=datetime.timedelta(seconds=125), end=datetime.timedelta(seconds=126, microseconds=800000), content=' DPS spell dyscrasias,', proprietary=''),\n",
              " Subtitle(index=62, start=datetime.timedelta(seconds=126, microseconds=800000), end=datetime.timedelta(seconds=129, microseconds=700000), content=' put this on tanks before they pull trash and bosses', proprietary=''),\n",
              " Subtitle(index=63, start=datetime.timedelta(seconds=129, microseconds=700000), end=datetime.timedelta(seconds=130, microseconds=900000), content=' for a free use in dungeons.', proprietary=''),\n",
              " Subtitle(index=64, start=datetime.timedelta(seconds=130, microseconds=900000), end=datetime.timedelta(seconds=131, microseconds=900000), content=' Their next job.', proprietary=''),\n",
              " Subtitle(index=65, start=datetime.timedelta(seconds=131, microseconds=900000), end=datetime.timedelta(seconds=135, microseconds=400000), content=' Mechanic is their cardia skill placing this on yourself', proprietary=''),\n",
              " Subtitle(index=66, start=datetime.timedelta(seconds=135, microseconds=400000), end=datetime.timedelta(seconds=136, microseconds=300000), content=' or a party member.', proprietary=''),\n",
              " Subtitle(index=67, start=datetime.timedelta(seconds=136, microseconds=300000), end=datetime.timedelta(seconds=139, microseconds=200000), content=' Ideally gives them the cardi in effect.', proprietary=''),\n",
              " Subtitle(index=68, start=datetime.timedelta(seconds=139, microseconds=200000), end=datetime.timedelta(seconds=142, microseconds=300000), content=' This causes all of this age is damaging spells to also', proprietary=''),\n",
              " Subtitle(index=69, start=datetime.timedelta(seconds=142, microseconds=300000), end=datetime.timedelta(seconds=143, microseconds=800000), content=' heal the cardian player.', proprietary=''),\n",
              " Subtitle(index=70, start=datetime.timedelta(seconds=143, microseconds=800000), end=datetime.timedelta(seconds=147, microseconds=400000), content=\" The potency of this is just under a house and selene's\", proprietary=''),\n",
              " Subtitle(index=71, start=datetime.timedelta(seconds=147, microseconds=400000), end=datetime.timedelta(seconds=147, microseconds=800000), content=' embrace.', proprietary=''),\n",
              " Subtitle(index=72, start=datetime.timedelta(seconds=147, microseconds=800000), end=datetime.timedelta(seconds=150, microseconds=200000), content=' I can only affect a single person at a time.', proprietary=''),\n",
              " Subtitle(index=73, start=datetime.timedelta(seconds=150, microseconds=200000), end=datetime.timedelta(seconds=153), content=' But switching your car Dion partner is very pain.', proprietary=''),\n",
              " Subtitle(index=74, start=datetime.timedelta(seconds=153), end=datetime.timedelta(seconds=156), content=' Free expect to swap between tanks are players were', proprietary=''),\n",
              " Subtitle(index=75, start=datetime.timedelta(seconds=156), end=datetime.timedelta(seconds=158, microseconds=800000), content=' taking consistent damage and raised quite frequently', proprietary=''),\n",
              " Subtitle(index=76, start=datetime.timedelta(seconds=158, microseconds=800000), end=datetime.timedelta(seconds=160, microseconds=500000), content=' using the area skill.', proprietary=''),\n",
              " Subtitle(index=77, start=datetime.timedelta(seconds=160, microseconds=500000), end=datetime.timedelta(seconds=162, microseconds=100000), content=' You can actually double the heal.', proprietary=''),\n",
              " Subtitle(index=78, start=datetime.timedelta(seconds=162, microseconds=100000), end=datetime.timedelta(seconds=164, microseconds=300000), content=' Your cardigan partner is receiving when you deal', proprietary=''),\n",
              " Subtitle(index=79, start=datetime.timedelta(seconds=164, microseconds=300000), end=datetime.timedelta(seconds=166, microseconds=600000), content=' damage, it only lasts about ten seconds.', proprietary=''),\n",
              " Subtitle(index=80, start=datetime.timedelta(seconds=166, microseconds=600000), end=datetime.timedelta(seconds=169, microseconds=900000), content=' So four or five Global cool down.', proprietary=''),\n",
              " Subtitle(index=81, start=datetime.timedelta(seconds=169, microseconds=900000), end=datetime.timedelta(seconds=173), content=' Cool down in the bill still definitely going to be', proprietary=''),\n",
              " Subtitle(index=82, start=datetime.timedelta(seconds=173), end=datetime.timedelta(seconds=175, microseconds=200000), content=' useful the final bit of their job gauge.', proprietary=''),\n",
              " Subtitle(index=83, start=datetime.timedelta(seconds=175, microseconds=200000), end=datetime.timedelta(seconds=178, microseconds=100000), content=\" Is there a daughter's Gall every 20 seconds to save\", proprietary=''),\n",
              " Subtitle(index=84, start=datetime.timedelta(seconds=178, microseconds=100000), end=datetime.timedelta(seconds=178, microseconds=400000), content=' games?', proprietary=''),\n",
              " Subtitle(index=85, start=datetime.timedelta(seconds=178, microseconds=400000), end=datetime.timedelta(seconds=180, microseconds=800000), content=' A stack of adders call represented by the filling', proprietary=''),\n",
              " Subtitle(index=86, start=datetime.timedelta(seconds=180, microseconds=800000), end=datetime.timedelta(seconds=182, microseconds=400000), content=' bar and the ovals above it.', proprietary=''),\n",
              " Subtitle(index=87, start=datetime.timedelta(seconds=182, microseconds=400000), end=datetime.timedelta(seconds=183, microseconds=400000), content=' There are four.', proprietary=''),\n",
              " Subtitle(index=88, start=datetime.timedelta(seconds=183, microseconds=400000), end=datetime.timedelta(seconds=184, microseconds=600000), content=' Awful abilities.', proprietary=''),\n",
              " Subtitle(index=89, start=datetime.timedelta(seconds=184, microseconds=600000), end=datetime.timedelta(seconds=187, microseconds=300000), content=' These can be used on and using any of them restores', proprietary=''),\n",
              " Subtitle(index=90, start=datetime.timedelta(seconds=187, microseconds=300000), end=datetime.timedelta(seconds=188, microseconds=300000), content=' 5% MP.', proprietary=''),\n",
              " Subtitle(index=91, start=datetime.timedelta(seconds=188, microseconds=300000), end=datetime.timedelta(seconds=190, microseconds=400000), content=' Tripoli is a single Target.', proprietary=''),\n",
              " Subtitle(index=92, start=datetime.timedelta(seconds=190, microseconds=400000), end=datetime.timedelta(seconds=191, microseconds=800000), content=\" He'll fix a toilet.\", proprietary=''),\n",
              " Subtitle(index=93, start=datetime.timedelta(seconds=191, microseconds=800000), end=datetime.timedelta(seconds=193, microseconds=100000), content=' Is in a we heal.', proprietary=''),\n",
              " Subtitle(index=94, start=datetime.timedelta(seconds=193, microseconds=100000), end=datetime.timedelta(seconds=196), content=' Tariq, Ali is a weaker single-target heal.', proprietary=''),\n",
              " Subtitle(index=95, start=datetime.timedelta(seconds=196), end=datetime.timedelta(seconds=199, microseconds=700000), content=' That also reduces damage for a short time and caricola', proprietary=''),\n",
              " Subtitle(index=96, start=datetime.timedelta(seconds=199, microseconds=700000), end=datetime.timedelta(seconds=202, microseconds=300000), content=' is an AOE region and damage reduction.', proprietary=''),\n",
              " Subtitle(index=97, start=datetime.timedelta(seconds=202, microseconds=300000), end=datetime.timedelta(seconds=206, microseconds=100000), content=\" The two damn deductions also can't be stacked.\", proprietary=''),\n",
              " Subtitle(index=98, start=datetime.timedelta(seconds=206, microseconds=100000), end=datetime.timedelta(seconds=207, microseconds=900000), content=\" You'll be using your address ball skills,\", proprietary=''),\n",
              " Subtitle(index=99, start=datetime.timedelta(seconds=207, microseconds=900000), end=datetime.timedelta(seconds=211, microseconds=200000), content=' very frequently as a ton of healing and damage.', proprietary=''),\n",
              " Subtitle(index=100, start=datetime.timedelta(seconds=211, microseconds=200000), end=datetime.timedelta(seconds=213, microseconds=700000), content=' Mitigation is loaded into these skills.', proprietary=''),\n",
              " Subtitle(index=101, start=datetime.timedelta(seconds=213, microseconds=700000), end=datetime.timedelta(seconds=219, microseconds=200000), content=' You can also use on a short one minute cooldown.', proprietary=''),\n",
              " Subtitle(index=102, start=datetime.timedelta(seconds=219, microseconds=200000), end=datetime.timedelta(seconds=222), content=\" That's it for job Gates related stuff,\", proprietary=''),\n",
              " Subtitle(index=103, start=datetime.timedelta(seconds=222), end=datetime.timedelta(seconds=224, microseconds=200000), content=' but they still have a bunch of other useful tools.', proprietary=''),\n",
              " Subtitle(index=104, start=datetime.timedelta(seconds=224, microseconds=200000), end=datetime.timedelta(seconds=227), content=' Zoe increases your healing potency for your next', proprietary=''),\n",
              " Subtitle(index=105, start=datetime.timedelta(seconds=227), end=datetime.timedelta(seconds=227, microseconds=300000), content=' healing.', proprietary=''),\n",
              " Subtitle(index=106, start=datetime.timedelta(seconds=227, microseconds=300000), end=datetime.timedelta(seconds=229, microseconds=300000), content=' Spell and Crassus increases.', proprietary=''),\n",
              " Subtitle(index=107, start=datetime.timedelta(seconds=229, microseconds=300000), end=datetime.timedelta(seconds=230, microseconds=400000), content=' You and your party members.', proprietary=''),\n",
              " Subtitle(index=108, start=datetime.timedelta(seconds=230, microseconds=400000), end=datetime.timedelta(seconds=231, microseconds=900000), content=' Healing receive for a short time.', proprietary=''),\n",
              " Subtitle(index=109, start=datetime.timedelta(seconds=231, microseconds=900000), end=datetime.timedelta(seconds=233, microseconds=200000), content=' So straightforward,', proprietary=''),\n",
              " Subtitle(index=110, start=datetime.timedelta(seconds=233, microseconds=200000), end=datetime.timedelta(seconds=233, microseconds=900000), content=' healing Buffs.', proprietary=''),\n",
              " Subtitle(index=111, start=datetime.timedelta(seconds=233, microseconds=900000), end=datetime.timedelta(seconds=236, microseconds=300000), content=' You also have faces and faces II,', proprietary=''),\n",
              " Subtitle(index=112, start=datetime.timedelta(seconds=236, microseconds=300000), end=datetime.timedelta(seconds=239, microseconds=400000), content=' two different buttons with similar effects fight.', proprietary=''),\n",
              " Subtitle(index=113, start=datetime.timedelta(seconds=239, microseconds=400000), end=datetime.timedelta(seconds=240, microseconds=800000), content=' This one is in a weary,', proprietary=''),\n",
              " Subtitle(index=114, start=datetime.timedelta(seconds=240, microseconds=800000), end=datetime.timedelta(seconds=243, microseconds=300000), content=' Jen with only one minute cooldown and bites.', proprietary=''),\n",
              " Subtitle(index=115, start=datetime.timedelta(seconds=243, microseconds=400000), end=datetime.timedelta(seconds=245), content=' Who is a stronger region?', proprietary=''),\n",
              " Subtitle(index=116, start=datetime.timedelta(seconds=245), end=datetime.timedelta(seconds=246, microseconds=100000), content=\" That doesn't last as long,\", proprietary=''),\n",
              " Subtitle(index=117, start=datetime.timedelta(seconds=246, microseconds=100000), end=datetime.timedelta(seconds=247), content=' but it boosts.', proprietary=''),\n",
              " Subtitle(index=118, start=datetime.timedelta(seconds=247), end=datetime.timedelta(seconds=248, microseconds=500000), content=\" Everyone's healing received,\", proprietary=''),\n",
              " Subtitle(index=119, start=datetime.timedelta(seconds=248, microseconds=500000), end=datetime.timedelta(seconds=249, microseconds=600000), content=' while in effect,', proprietary=''),\n",
              " Subtitle(index=120, start=datetime.timedelta(seconds=249, microseconds=600000), end=datetime.timedelta(seconds=251, microseconds=400000), content=' and also has a much longer cooldown,', proprietary=''),\n",
              " Subtitle(index=121, start=datetime.timedelta(seconds=251, microseconds=400000), end=datetime.timedelta(seconds=252, microseconds=800000), content=' lots of region,', proprietary=''),\n",
              " Subtitle(index=122, start=datetime.timedelta(seconds=252, microseconds=800000), end=datetime.timedelta(seconds=253, microseconds=300000), content=' and healing.', proprietary=''),\n",
              " Subtitle(index=123, start=datetime.timedelta(seconds=253, microseconds=300000), end=datetime.timedelta(seconds=254), content=' But as you can see,', proprietary=''),\n",
              " Subtitle(index=124, start=datetime.timedelta(seconds=254), end=datetime.timedelta(seconds=255, microseconds=700000), content=' there is also a Halo,', proprietary=''),\n",
              " Subtitle(index=125, start=datetime.timedelta(seconds=255, microseconds=700000), end=datetime.timedelta(seconds=257, microseconds=300000), content=' switch is just a 60-second.', proprietary=''),\n",
              " Subtitle(index=126, start=datetime.timedelta(seconds=257, microseconds=300000), end=datetime.timedelta(seconds=258, microseconds=400000), content=' Cool down a wee Hill,', proprietary=''),\n",
              " Subtitle(index=127, start=datetime.timedelta(seconds=258, microseconds=400000), end=datetime.timedelta(seconds=259, microseconds=100000), content=' nothing too fancy.', proprietary=''),\n",
              " Subtitle(index=128, start=datetime.timedelta(seconds=259, microseconds=100000), end=datetime.timedelta(seconds=262, microseconds=100000), content=' It seems they also have hi Ma and pain Hymer.', proprietary=''),\n",
              " Subtitle(index=129, start=datetime.timedelta(seconds=262, microseconds=100000), end=datetime.timedelta(seconds=264, microseconds=400000), content=' Both of these spells do the same thing.', proprietary=''),\n",
              " Subtitle(index=130, start=datetime.timedelta(seconds=264, microseconds=400000), end=datetime.timedelta(seconds=266, microseconds=500000), content=' Just haima is single Target and pain.', proprietary=''),\n",
              " Subtitle(index=131, start=datetime.timedelta(seconds=266, microseconds=500000), end=datetime.timedelta(seconds=267, microseconds=200000), content=' Haima is a,', proprietary=''),\n",
              " Subtitle(index=132, start=datetime.timedelta(seconds=267, microseconds=200000), end=datetime.timedelta(seconds=270, microseconds=400000), content=' I assume these will have different potencies in the', proprietary=''),\n",
              " Subtitle(index=133, start=datetime.timedelta(seconds=270, microseconds=400000), end=datetime.timedelta(seconds=271, microseconds=500000), content=' full release says,', proprietary=''),\n",
              " Subtitle(index=134, start=datetime.timedelta(seconds=271, microseconds=500000), end=datetime.timedelta(seconds=274, microseconds=400000), content=' it is kind of weird that they are exactly the same despite', proprietary=''),\n",
              " Subtitle(index=135, start=datetime.timedelta(seconds=274, microseconds=400000), end=datetime.timedelta(seconds=275, microseconds=700000), content=' being single Target today.', proprietary=''),\n",
              " Subtitle(index=136, start=datetime.timedelta(seconds=275, microseconds=700000), end=datetime.timedelta(seconds=278, microseconds=300000), content=' We hear a song using the skills.', proprietary=''),\n",
              " Subtitle(index=137, start=datetime.timedelta(seconds=278, microseconds=300000), end=datetime.timedelta(seconds=280, microseconds=400000), content=' They apply a shield on the affected player.', proprietary=''),\n",
              " Subtitle(index=138, start=datetime.timedelta(seconds=280, microseconds=400000), end=datetime.timedelta(seconds=284, microseconds=700000), content=' They also get five stacks of the same Buck for the duration', proprietary=''),\n",
              " Subtitle(index=139, start=datetime.timedelta(seconds=284, microseconds=700000), end=datetime.timedelta(seconds=285, microseconds=700000), content=' of these skills.', proprietary=''),\n",
              " Subtitle(index=140, start=datetime.timedelta(seconds=285, microseconds=700000), end=datetime.timedelta(seconds=288, microseconds=200000), content=' Every time the shield breaks a new one,', proprietary=''),\n",
              " Subtitle(index=141, start=datetime.timedelta(seconds=288, microseconds=200000), end=datetime.timedelta(seconds=291, microseconds=900000), content=' takes its place for up to five additional Shield if', proprietary=''),\n",
              " Subtitle(index=142, start=datetime.timedelta(seconds=291, microseconds=900000), end=datetime.timedelta(seconds=293, microseconds=700000), content=' any Shields are left when the timer expires,', proprietary=''),\n",
              " Subtitle(index=143, start=datetime.timedelta(seconds=293, microseconds=700000), end=datetime.timedelta(seconds=295, microseconds=900000), content=' they will heal affected players.', proprietary=''),\n",
              " Subtitle(index=144, start=datetime.timedelta(seconds=295, microseconds=900000), end=datetime.timedelta(seconds=297, microseconds=800000), content=' Based on the number of Shield remaining,', proprietary=''),\n",
              " Subtitle(index=145, start=datetime.timedelta(seconds=297, microseconds=800000), end=datetime.timedelta(seconds=300, microseconds=900000), content=' these are both great for consistent sources of damage', proprietary=''),\n",
              " Subtitle(index=146, start=datetime.timedelta(seconds=300, microseconds=900000), end=datetime.timedelta(seconds=302, microseconds=400000), content=' as it seems the repeat Shields.', proprietary=''),\n",
              " Subtitle(index=147, start=datetime.timedelta(seconds=303, microseconds=400000), end=datetime.timedelta(seconds=304, microseconds=800000), content=' Other types of shields as well.', proprietary=''),\n",
              " Subtitle(index=148, start=datetime.timedelta(seconds=304, microseconds=800000), end=datetime.timedelta(seconds=305, microseconds=500000), content=' But again,', proprietary=''),\n",
              " Subtitle(index=149, start=datetime.timedelta(seconds=305, microseconds=500000), end=datetime.timedelta(seconds=307, microseconds=400000), content=\" I'm going to keep my eye on the potency in the full release.\", proprietary=''),\n",
              " Subtitle(index=150, start=datetime.timedelta(seconds=307, microseconds=400000), end=datetime.timedelta(seconds=309, microseconds=100000), content=' Their last few skills,', proprietary=''),\n",
              " Subtitle(index=151, start=datetime.timedelta(seconds=309, microseconds=100000), end=datetime.timedelta(seconds=311, microseconds=400000), content=' just brand out the jobs utility and damage.', proprietary=''),\n",
              " Subtitle(index=152, start=datetime.timedelta(seconds=311, microseconds=400000), end=datetime.timedelta(seconds=314, microseconds=200000), content=' Like the three is another Global cooldown damaging', proprietary=''),\n",
              " Subtitle(index=153, start=datetime.timedelta(seconds=314, microseconds=200000), end=datetime.timedelta(seconds=315), content=' skilled at deals,', proprietary=''),\n",
              " Subtitle(index=154, start=datetime.timedelta(seconds=315), end=datetime.timedelta(seconds=316, microseconds=300000), content=' significantly more damage,', proprietary=''),\n",
              " Subtitle(index=155, start=datetime.timedelta(seconds=316, microseconds=300000), end=datetime.timedelta(seconds=319, microseconds=400000), content=' but only generates charges every 45 seconds.', proprietary=''),\n",
              " Subtitle(index=156, start=datetime.timedelta(seconds=319, microseconds=400000), end=datetime.timedelta(seconds=320, microseconds=700000), content=\" It's also a week.\", proprietary=''),\n",
              " Subtitle(index=157, start=datetime.timedelta(seconds=320, microseconds=700000), end=datetime.timedelta(seconds=322, microseconds=900000), content=' So this is important to use during damage bus from', proprietary=''),\n",
              " Subtitle(index=158, start=datetime.timedelta(seconds=322, microseconds=900000), end=datetime.timedelta(seconds=324, microseconds=700000), content=' your party or two a week down.', proprietary=''),\n",
              " Subtitle(index=159, start=datetime.timedelta(seconds=324, microseconds=700000), end=datetime.timedelta(seconds=325, microseconds=800000), content=' Big groups of enemies.', proprietary=''),\n",
              " Subtitle(index=160, start=datetime.timedelta(seconds=325, microseconds=800000), end=datetime.timedelta(seconds=328, microseconds=700000), content=' Agera is their Resurrection skill and they even have', proprietary=''),\n",
              " Subtitle(index=161, start=datetime.timedelta(seconds=328, microseconds=700000), end=datetime.timedelta(seconds=330, microseconds=800000), content=' a movement skill in that of Icarus.', proprietary=''),\n",
              " Subtitle(index=162, start=datetime.timedelta(seconds=330, microseconds=800000), end=datetime.timedelta(seconds=331, microseconds=900000), content=' It lets you dash,', proprietary=''),\n",
              " Subtitle(index=163, start=datetime.timedelta(seconds=331, microseconds=900000), end=datetime.timedelta(seconds=332, microseconds=800000), content=' 2 Enemies or Allies.', proprietary=''),\n",
              " Subtitle(index=164, start=datetime.timedelta(seconds=332, microseconds=800000), end=datetime.timedelta(seconds=335, microseconds=300000), content=' That has a lengthy 45-second cooldown.', proprietary=''),\n",
              " Subtitle(index=165, start=datetime.timedelta(seconds=335, microseconds=300000), end=datetime.timedelta(seconds=336, microseconds=700000), content=' Finally there.', proprietary=''),\n",
              " Subtitle(index=166, start=datetime.timedelta(seconds=336, microseconds=700000), end=datetime.timedelta(seconds=339, microseconds=300000), content=' Level 90 Capstone skill Numa.', proprietary=''),\n",
              " Subtitle(index=167, start=datetime.timedelta(seconds=339, microseconds=300000), end=datetime.timedelta(seconds=342, microseconds=900000), content=' This fire is a giant AOE laser at your enemy that deals', proprietary=''),\n",
              " Subtitle(index=168, start=datetime.timedelta(seconds=342, microseconds=900000), end=datetime.timedelta(seconds=345, microseconds=200000), content=' damage while also healing nearby allies.', proprietary=''),\n",
              " Subtitle(index=169, start=datetime.timedelta(seconds=345, microseconds=200000), end=datetime.timedelta(seconds=347, microseconds=100000), content=' It even reduces the damage.', proprietary=''),\n",
              " Subtitle(index=170, start=datetime.timedelta(seconds=347, microseconds=100000), end=datetime.timedelta(seconds=349, microseconds=400000), content=' The party takes for a short time after you fire,', proprietary=''),\n",
              " Subtitle(index=171, start=datetime.timedelta(seconds=349, microseconds=400000), end=datetime.timedelta(seconds=352, microseconds=800000), content=' the laser it deals the same damage as you do spell,', proprietary=''),\n",
              " Subtitle(index=172, start=datetime.timedelta(seconds=352, microseconds=800000), end=datetime.timedelta(seconds=355, microseconds=500000), content=\" so you wouldn't just burn it to DPS in single-target\", proprietary=''),\n",
              " Subtitle(index=173, start=datetime.timedelta(seconds=355, microseconds=500000), end=datetime.timedelta(seconds=356), content=' situations.', proprietary=''),\n",
              " Subtitle(index=174, start=datetime.timedelta(seconds=356), end=datetime.timedelta(seconds=357, microseconds=200000), content=' You.', proprietary=''),\n",
              " Subtitle(index=175, start=datetime.timedelta(seconds=357, microseconds=200000), end=datetime.timedelta(seconds=359, microseconds=500000), content=' To use it when you need the damage reduction more than', proprietary=''),\n",
              " Subtitle(index=176, start=datetime.timedelta(seconds=359, microseconds=500000), end=datetime.timedelta(seconds=359, microseconds=900000), content=' anything else.', proprietary=''),\n",
              " Subtitle(index=177, start=datetime.timedelta(seconds=359, microseconds=900000), end=datetime.timedelta(seconds=361, microseconds=300000), content=' I really enjoy that.', proprietary=''),\n",
              " Subtitle(index=178, start=datetime.timedelta(seconds=361, microseconds=300000), end=datetime.timedelta(seconds=362, microseconds=800000), content=' It does deal damage though.', proprietary=''),\n",
              " Subtitle(index=179, start=datetime.timedelta(seconds=363, microseconds=400000), end=datetime.timedelta(seconds=365, microseconds=300000), content=' Using the global cool down on this,', proprietary=''),\n",
              " Subtitle(index=180, start=datetime.timedelta(seconds=365, microseconds=300000), end=datetime.timedelta(seconds=368), content=' go worth it for the other effects without costing', proprietary=''),\n",
              " Subtitle(index=181, start=datetime.timedelta(seconds=368), end=datetime.timedelta(seconds=368, microseconds=700000), content=' you DPS.', proprietary=''),\n",
              " Subtitle(index=182, start=datetime.timedelta(seconds=368, microseconds=700000), end=datetime.timedelta(seconds=370, microseconds=200000), content=\" And since it's not in a stronger,\", proprietary=''),\n",
              " Subtitle(index=183, start=datetime.timedelta(seconds=370, microseconds=200000), end=datetime.timedelta(seconds=371, microseconds=800000), content=' you never feel forced to use it,', proprietary=''),\n",
              " Subtitle(index=184, start=datetime.timedelta(seconds=371, microseconds=800000), end=datetime.timedelta(seconds=372), content=' right?', proprietary=''),\n",
              " Subtitle(index=185, start=datetime.timedelta(seconds=372), end=datetime.timedelta(seconds=372, microseconds=600000), content=' As it comes off.', proprietary=''),\n",
              " Subtitle(index=186, start=datetime.timedelta(seconds=372, microseconds=600000), end=datetime.timedelta(seconds=373, microseconds=100000), content=' Cool down.', proprietary=''),\n",
              " Subtitle(index=187, start=datetime.timedelta(seconds=373, microseconds=100000), end=datetime.timedelta(seconds=374, microseconds=900000), content=' As for their traits,', proprietary=''),\n",
              " Subtitle(index=188, start=datetime.timedelta(seconds=374, microseconds=900000), end=datetime.timedelta(seconds=376, microseconds=900000), content=\" there really isn't much to say because these are the\", proprietary=''),\n",
              " Subtitle(index=189, start=datetime.timedelta(seconds=376, microseconds=900000), end=datetime.timedelta(seconds=379, microseconds=200000), content=' kind of traits of just set up the job to work at level', proprietary=''),\n",
              " Subtitle(index=190, start=datetime.timedelta(seconds=379, microseconds=200000), end=datetime.timedelta(seconds=380, microseconds=400000), content=' 90 in the first place.', proprietary=''),\n",
              " Subtitle(index=191, start=datetime.timedelta(seconds=380, microseconds=400000), end=datetime.timedelta(seconds=382, microseconds=200000), content=\" So they're kind of the Baseline that will be looking\", proprietary=''),\n",
              " Subtitle(index=192, start=datetime.timedelta(seconds=382, microseconds=200000), end=datetime.timedelta(seconds=383, microseconds=500000), content=' at in future expansion.', proprietary=''),\n",
              " Subtitle(index=193, start=datetime.timedelta(seconds=383, microseconds=500000), end=datetime.timedelta(seconds=385, microseconds=800000), content=' May be mendin creasing healing and action damage.', proprietary=''),\n",
              " Subtitle(index=194, start=datetime.timedelta(seconds=385, microseconds=800000), end=datetime.timedelta(seconds=388, microseconds=400000), content=\" For example Hatter's going out her sing traits are\", proprietary=''),\n",
              " Subtitle(index=195, start=datetime.timedelta(seconds=388, microseconds=400000), end=datetime.timedelta(seconds=390, microseconds=600000), content=' just adding those job gauges to the job.', proprietary=''),\n",
              " Subtitle(index=196, start=datetime.timedelta(seconds=390, microseconds=600000), end=datetime.timedelta(seconds=394), content=' The oath ones are just increasing offense of potencies.', proprietary=''),\n",
              " Subtitle(index=197, start=datetime.timedelta(seconds=394), end=datetime.timedelta(seconds=397), content=' The offensive magic Masters or just increasing skills.', proprietary=''),\n",
              " Subtitle(index=198, start=datetime.timedelta(seconds=397), end=datetime.timedelta(seconds=397, microseconds=800000), content=' The new tears.', proprietary=''),\n",
              " Subtitle(index=199, start=datetime.timedelta(seconds=397, microseconds=800000), end=datetime.timedelta(seconds=400, microseconds=500000), content=' The enhanced healing magic one is just going to make', proprietary=''),\n",
              " Subtitle(index=200, start=datetime.timedelta(seconds=400, microseconds=500000), end=datetime.timedelta(seconds=403), content=' your heels and your Shield little stronger just like', proprietary=''),\n",
              " Subtitle(index=201, start=datetime.timedelta(seconds=403), end=datetime.timedelta(seconds=405), content=' scholar has and enhance Caracol.', proprietary=''),\n",
              " Subtitle(index=202, start=datetime.timedelta(seconds=405), end=datetime.timedelta(seconds=406, microseconds=500000), content=' It gives a Regen to that skill.', proprietary=''),\n",
              " Subtitle(index=203, start=datetime.timedelta(seconds=406, microseconds=500000), end=datetime.timedelta(seconds=409, microseconds=100000), content=' Similar to how sacred soil gets a region at the later', proprietary=''),\n",
              " Subtitle(index=204, start=datetime.timedelta(seconds=409, microseconds=100000), end=datetime.timedelta(seconds=409, microseconds=300000), content=' levels.', proprietary=''),\n",
              " Subtitle(index=205, start=datetime.timedelta(seconds=409, microseconds=300000), end=datetime.timedelta(seconds=413, microseconds=800000), content=' The Zoe one matches the deployment 14 scholar.', proprietary=''),\n",
              " Subtitle(index=206, start=datetime.timedelta(seconds=413, microseconds=800000), end=datetime.timedelta(seconds=414, microseconds=800000), content=' Their deployment goes down,', proprietary=''),\n",
              " Subtitle(index=207, start=datetime.timedelta(seconds=414, microseconds=800000), end=datetime.timedelta(seconds=415, microseconds=500000), content=' 90 seconds.', proprietary=''),\n",
              " Subtitle(index=208, start=datetime.timedelta(seconds=415, microseconds=500000), end=datetime.timedelta(seconds=417, microseconds=200000), content=' So it goes down to 90 seconds at that level.', proprietary=''),\n",
              " Subtitle(index=209, start=datetime.timedelta(seconds=417, microseconds=200000), end=datetime.timedelta(seconds=419, microseconds=700000), content=\" So, there's nothing really fancy to talk about here.\", proprietary=''),\n",
              " Subtitle(index=210, start=datetime.timedelta(seconds=419, microseconds=700000), end=datetime.timedelta(seconds=420, microseconds=800000), content=\" It's all by the books,\", proprietary=''),\n",
              " Subtitle(index=211, start=datetime.timedelta(seconds=420, microseconds=800000), end=datetime.timedelta(seconds=421, microseconds=700000), content=' overall.', proprietary=''),\n",
              " Subtitle(index=212, start=datetime.timedelta(seconds=421, microseconds=700000), end=datetime.timedelta(seconds=422, microseconds=800000), content=' I love Stage.', proprietary=''),\n",
              " Subtitle(index=213, start=datetime.timedelta(seconds=423, microseconds=300000), end=datetime.timedelta(seconds=423, microseconds=800000), content=' The pace.', proprietary=''),\n",
              " Subtitle(index=214, start=datetime.timedelta(seconds=423, microseconds=800000), end=datetime.timedelta(seconds=425, microseconds=600000), content=' The identity that has a Healer.', proprietary=''),\n",
              " Subtitle(index=215, start=datetime.timedelta(seconds=425, microseconds=600000), end=datetime.timedelta(seconds=428, microseconds=900000), content=\" I don't think it's necessarily stronger than scholar\", proprietary=''),\n",
              " Subtitle(index=216, start=datetime.timedelta(seconds=428, microseconds=900000), end=datetime.timedelta(seconds=431, microseconds=700000), content=' either, but it does feel like a completely different', proprietary=''),\n",
              " Subtitle(index=217, start=datetime.timedelta(seconds=431, microseconds=700000), end=datetime.timedelta(seconds=433, microseconds=100000), content=' flavor of job.', proprietary=''),\n",
              " Subtitle(index=218, start=datetime.timedelta(seconds=433, microseconds=100000), end=datetime.timedelta(seconds=435, microseconds=900000), content=' Does a decent sort of futility and both feeling end', proprietary=''),\n",
              " Subtitle(index=219, start=datetime.timedelta(seconds=435, microseconds=900000), end=datetime.timedelta(seconds=436, microseconds=400000), content=' damage reduction.', proprietary=''),\n",
              " Subtitle(index=220, start=datetime.timedelta(seconds=436, microseconds=400000), end=datetime.timedelta(seconds=437, microseconds=300000), content=' A few regions.', proprietary=''),\n",
              " Subtitle(index=221, start=datetime.timedelta(seconds=437, microseconds=300000), end=datetime.timedelta(seconds=440, microseconds=300000), content=' If you Shields and a ton of DPS related skills,', proprietary=''),\n",
              " Subtitle(index=222, start=datetime.timedelta(seconds=440, microseconds=300000), end=datetime.timedelta(seconds=441, microseconds=200000), content=' they made it,', proprietary=''),\n",
              " Subtitle(index=223, start=datetime.timedelta(seconds=441, microseconds=200000), end=datetime.timedelta(seconds=443, microseconds=700000), content=\" so, it's worth using them in all different ways.\", proprietary=''),\n",
              " Subtitle(index=224, start=datetime.timedelta(seconds=443, microseconds=700000), end=datetime.timedelta(seconds=445, microseconds=300000), content=' Either to save him peat,', proprietary=''),\n",
              " Subtitle(index=225, start=datetime.timedelta(seconds=445, microseconds=300000), end=datetime.timedelta(seconds=446, microseconds=200000), content=' rigor, other effects,', proprietary=''),\n",
              " Subtitle(index=226, start=datetime.timedelta(seconds=446, microseconds=200000), end=datetime.timedelta(seconds=447, microseconds=700000), content=' or just the basic filler.', proprietary=''),\n",
              " Subtitle(index=227, start=datetime.timedelta(seconds=447, microseconds=700000), end=datetime.timedelta(seconds=448, microseconds=300000), content=' Plus.', proprietary=''),\n",
              " Subtitle(index=228, start=datetime.timedelta(seconds=448, microseconds=300000), end=datetime.timedelta(seconds=452, microseconds=500000), content=' Skills feels exciting even in the one dungeon Iran.', proprietary=''),\n",
              " Subtitle(index=229, start=datetime.timedelta(seconds=452, microseconds=500000), end=datetime.timedelta(seconds=454, microseconds=600000), content=' I thought I was just constantly slinging spelled', proprietary=''),\n",
              " Subtitle(index=230, start=datetime.timedelta(seconds=454, microseconds=600000), end=datetime.timedelta(seconds=455, microseconds=200000), content=' in effects.', proprietary=''),\n",
              " Subtitle(index=231, start=datetime.timedelta(seconds=455, microseconds=200000), end=datetime.timedelta(seconds=456, microseconds=300000), content=' Not very efficiently,', proprietary=''),\n",
              " Subtitle(index=232, start=datetime.timedelta(seconds=456, microseconds=300000), end=datetime.timedelta(seconds=457, microseconds=600000), content=' but I was doing it.', proprietary=''),\n",
              " Subtitle(index=233, start=datetime.timedelta(seconds=457, microseconds=600000), end=datetime.timedelta(seconds=458, microseconds=900000), content=\" I can't wait to play this job.\", proprietary=''),\n",
              " Subtitle(index=234, start=datetime.timedelta(seconds=458, microseconds=900000), end=datetime.timedelta(seconds=462, microseconds=500000), content=\" That's going to be a wrap for my overview on the stage\", proprietary=''),\n",
              " Subtitle(index=235, start=datetime.timedelta(seconds=462, microseconds=500000), end=datetime.timedelta(seconds=464), content=' job coming to end Walker.', proprietary=''),\n",
              " Subtitle(index=236, start=datetime.timedelta(seconds=464), end=datetime.timedelta(seconds=465, microseconds=900000), content=' Be sure to like there was subscribed and cheer and', proprietary=''),\n",
              " Subtitle(index=237, start=datetime.timedelta(seconds=465, microseconds=900000), end=datetime.timedelta(seconds=468, microseconds=100000), content=' check out all of the other media tour videos in the', proprietary=''),\n",
              " Subtitle(index=238, start=datetime.timedelta(seconds=468, microseconds=100000), end=datetime.timedelta(seconds=468, microseconds=600000), content=' playlist.', proprietary=''),\n",
              " Subtitle(index=239, start=datetime.timedelta(seconds=468, microseconds=600000), end=datetime.timedelta(seconds=469, microseconds=300000), content=' Thanks for watching.', proprietary=''),\n",
              " Subtitle(index=240, start=datetime.timedelta(seconds=469, microseconds=300000), end=datetime.timedelta(seconds=470, microseconds=300000), content=' Until next time.', proprietary=''),\n",
              " Subtitle(index=241, start=datetime.timedelta(seconds=470, microseconds=300000), end=datetime.timedelta(seconds=471, microseconds=200000), content=' Take care.', proprietary='')]"
            ]
          },
          "metadata": {},
          "execution_count": 14
        }
      ]
    },
    {
      "cell_type": "code",
      "metadata": {
        "colab": {
          "base_uri": "https://localhost:8080/"
        },
        "id": "iKqg4Vnox2Ip",
        "outputId": "9c8862a8-1bc6-48b6-9410-6f38671f0c15"
      },
      "source": [
        "    write_srt(subs)\n",
        "    write_txt(subs)"
      ],
      "execution_count": 15,
      "outputs": [
        {
          "output_type": "stream",
          "name": "stdout",
          "text": [
            "Writing en-US subtitles to: subtitle.srt\n",
            "Writing text to: subtitle.txt\n"
          ]
        }
      ]
    },
    {
      "cell_type": "code",
      "metadata": {
        "id": "LTRUCsvAtrWF"
      },
      "source": [
        ""
      ],
      "execution_count": null,
      "outputs": []
    },
    {
      "cell_type": "code",
      "metadata": {
        "id": "ViRfazISrElT"
      },
      "source": [
        ""
      ],
      "execution_count": null,
      "outputs": []
    }
  ]
}